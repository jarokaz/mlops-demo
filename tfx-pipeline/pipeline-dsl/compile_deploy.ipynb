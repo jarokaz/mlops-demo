{
 "cells": [
  {
   "cell_type": "code",
   "execution_count": 1,
   "metadata": {},
   "outputs": [],
   "source": [
    "import kfp\n",
    "import tfx\n",
    "import os"
   ]
  },
  {
   "cell_type": "markdown",
   "metadata": {},
   "source": [
    "### Upload the dataset"
   ]
  },
  {
   "cell_type": "code",
   "execution_count": 3,
   "metadata": {},
   "outputs": [
    {
     "name": "stdout",
     "output_type": "stream",
     "text": [
      "Copying gs://workshop-datasets/online_news/full/data.csv [Content-Type=text/csv]...\n",
      "/ [1 files][ 20.1 MiB/ 20.1 MiB]                                                \n",
      "Operation completed over 1 objects/20.1 MiB.                                     \n"
     ]
    }
   ],
   "source": [
    "DATA_ROOT_URI='gs://acc-demo-artifact-store/lab-datasets/online_news'\n",
    "\n",
    "!gsutil cp gs://workshop-datasets/online_news/full/data.csv $DATA_ROOT_URI/data.csv "
   ]
  },
  {
   "cell_type": "markdown",
   "metadata": {},
   "source": [
    "### Build the trainer image"
   ]
  },
  {
   "cell_type": "code",
   "execution_count": 6,
   "metadata": {},
   "outputs": [
    {
     "name": "stdout",
     "output_type": "stream",
     "text": [
      "Creating temporary tarball archive of 8 file(s) totalling 29.8 KiB before compression.\n",
      "Uploading tarball of [.] to [gs://mlops-demo_cloudbuild/source/1578626288.07-7ba8c9cfb54d4130a987ab34e11623ab.tgz]\n",
      "Created [https://cloudbuild.googleapis.com/v1/projects/mlops-demo/builds/44d474cc-6302-45ea-9e80-8bbc05ca5201].\n",
      "Logs are available at [https://console.cloud.google.com/gcr/builds/44d474cc-6302-45ea-9e80-8bbc05ca5201?project=609934025272].\n",
      "----------------------------- REMOTE BUILD OUTPUT ------------------------------\n",
      "starting build \"44d474cc-6302-45ea-9e80-8bbc05ca5201\"\n",
      "\n",
      "FETCHSOURCE\n",
      "Fetching storage object: gs://mlops-demo_cloudbuild/source/1578626288.07-7ba8c9cfb54d4130a987ab34e11623ab.tgz#1578626288641563\n",
      "Copying gs://mlops-demo_cloudbuild/source/1578626288.07-7ba8c9cfb54d4130a987ab34e11623ab.tgz#1578626288641563...\n",
      "/ [1 files][  7.0 KiB/  7.0 KiB]                                                \n",
      "Operation completed over 1 objects/7.0 KiB.                                      \n",
      "BUILD\n",
      "Already have image (with digest): gcr.io/cloud-builders/docker\n",
      "Sending build context to Docker daemon   38.4kB\n",
      "Step 1/4 : FROM tensorflow/tfx:0.15.0\n",
      "0.15.0: Pulling from tensorflow/tfx\n",
      "e80174c8b43b: Pulling fs layer\n",
      "d1072db285cc: Pulling fs layer\n",
      "858453671e67: Pulling fs layer\n",
      "3d07b1124f98: Pulling fs layer\n",
      "5db2ed046505: Pulling fs layer\n",
      "2191ae38f54b: Pulling fs layer\n",
      "58c2a87aa39b: Pulling fs layer\n",
      "f0faba0361ab: Pulling fs layer\n",
      "9a6fd421c2ac: Pulling fs layer\n",
      "33d555de4589: Pulling fs layer\n",
      "6fddca0e041f: Pulling fs layer\n",
      "3d07b1124f98: Waiting\n",
      "5db2ed046505: Waiting\n",
      "2191ae38f54b: Waiting\n",
      "58c2a87aa39b: Waiting\n",
      "f0faba0361ab: Waiting\n",
      "9a6fd421c2ac: Waiting\n",
      "33d555de4589: Waiting\n",
      "6fddca0e041f: Waiting\n",
      "858453671e67: Verifying Checksum\n",
      "858453671e67: Download complete\n",
      "d1072db285cc: Verifying Checksum\n",
      "d1072db285cc: Download complete\n",
      "e80174c8b43b: Verifying Checksum\n",
      "e80174c8b43b: Download complete\n",
      "3d07b1124f98: Verifying Checksum\n",
      "3d07b1124f98: Download complete\n",
      "2191ae38f54b: Verifying Checksum\n",
      "2191ae38f54b: Download complete\n",
      "5db2ed046505: Verifying Checksum\n",
      "5db2ed046505: Download complete\n",
      "58c2a87aa39b: Verifying Checksum\n",
      "58c2a87aa39b: Download complete\n",
      "33d555de4589: Verifying Checksum\n",
      "33d555de4589: Download complete\n",
      "f0faba0361ab: Verifying Checksum\n",
      "f0faba0361ab: Download complete\n",
      "6fddca0e041f: Verifying Checksum\n",
      "6fddca0e041f: Download complete\n",
      "9a6fd421c2ac: Verifying Checksum\n",
      "9a6fd421c2ac: Download complete\n",
      "e80174c8b43b: Pull complete\n",
      "d1072db285cc: Pull complete\n",
      "858453671e67: Pull complete\n",
      "3d07b1124f98: Pull complete\n",
      "5db2ed046505: Pull complete\n",
      "2191ae38f54b: Pull complete\n",
      "58c2a87aa39b: Pull complete\n",
      "f0faba0361ab: Pull complete\n",
      "9a6fd421c2ac: Pull complete\n",
      "33d555de4589: Pull complete\n",
      "6fddca0e041f: Pull complete\n",
      "Digest: sha256:076d45d7f635d2db38f1e5eb58bb96efff5f2df4dd1e1a62ca892fe753d431dc\n",
      "Status: Downloaded newer image for tensorflow/tfx:0.15.0\n",
      " ---> c51561cfbbbc\n",
      "Step 2/4 : RUN pip install -U tensorflow-serving-api==1.15 tensorflow==1.15\n",
      " ---> Running in b6ebb16e3d7a\n",
      "Collecting tensorflow-serving-api==1.15\n",
      "  Downloading https://files.pythonhosted.org/packages/f5/a1/f27a638a7f3a69069fd45a1d9cda7363941f8c961bfd12cddf3b5bd286db/tensorflow_serving_api-1.15.0-py2.py3-none-any.whl\n",
      "Collecting tensorflow==1.15\n",
      "  Downloading https://files.pythonhosted.org/packages/3f/98/5a99af92fb911d7a88a0005ad55005f35b4c1ba8d75fba02df726cd936e6/tensorflow-1.15.0-cp36-cp36m-manylinux2010_x86_64.whl (412.3MB)\n",
      "Requirement already satisfied, skipping upgrade: grpcio>=1.0<2 in /opt/venv/lib/python3.6/site-packages (from tensorflow-serving-api==1.15) (1.25.0)\n",
      "Requirement already satisfied, skipping upgrade: protobuf>=3.6.0 in /opt/venv/lib/python3.6/site-packages (from tensorflow-serving-api==1.15) (3.10.0)\n",
      "Requirement already satisfied, skipping upgrade: keras-applications>=1.0.8 in /opt/venv/lib/python3.6/site-packages (from tensorflow==1.15) (1.0.8)\n",
      "Requirement already satisfied, skipping upgrade: astor>=0.6.0 in /opt/venv/lib/python3.6/site-packages (from tensorflow==1.15) (0.8.0)\n",
      "Requirement already satisfied, skipping upgrade: google-pasta>=0.1.6 in /opt/venv/lib/python3.6/site-packages (from tensorflow==1.15) (0.1.8)\n",
      "Collecting tensorflow-estimator==1.15.1\n",
      "  Downloading https://files.pythonhosted.org/packages/de/62/2ee9cd74c9fa2fa450877847ba560b260f5d0fb70ee0595203082dafcc9d/tensorflow_estimator-1.15.1-py2.py3-none-any.whl (503kB)\n",
      "Requirement already satisfied, skipping upgrade: opt-einsum>=2.3.2 in /opt/venv/lib/python3.6/site-packages (from tensorflow==1.15) (3.1.0)\n",
      "Requirement already satisfied, skipping upgrade: absl-py>=0.7.0 in /opt/venv/lib/python3.6/site-packages (from tensorflow==1.15) (0.8.1)\n",
      "Requirement already satisfied, skipping upgrade: keras-preprocessing>=1.0.5 in /opt/venv/lib/python3.6/site-packages (from tensorflow==1.15) (1.1.0)\n",
      "Requirement already satisfied, skipping upgrade: wrapt>=1.11.1 in /opt/venv/lib/python3.6/site-packages (from tensorflow==1.15) (1.11.2)\n",
      "Requirement already satisfied, skipping upgrade: six>=1.10.0 in /opt/venv/lib/python3.6/site-packages (from tensorflow==1.15) (1.13.0)\n",
      "Requirement already satisfied, skipping upgrade: wheel>=0.26 in /opt/venv/lib/python3.6/site-packages (from tensorflow==1.15) (0.33.6)\n",
      "Requirement already satisfied, skipping upgrade: numpy<2.0,>=1.16.0 in /opt/venv/lib/python3.6/site-packages (from tensorflow==1.15) (1.17.4)\n",
      "Requirement already satisfied, skipping upgrade: termcolor>=1.1.0 in /opt/venv/lib/python3.6/site-packages (from tensorflow==1.15) (1.1.0)\n",
      "Collecting tensorboard<1.16.0,>=1.15.0\n",
      "  Downloading https://files.pythonhosted.org/packages/1e/e9/d3d747a97f7188f48aa5eda486907f3b345cd409f0a0850468ba867db246/tensorboard-1.15.0-py3-none-any.whl (3.8MB)\n",
      "Requirement already satisfied, skipping upgrade: gast==0.2.2 in /opt/venv/lib/python3.6/site-packages (from tensorflow==1.15) (0.2.2)\n",
      "Requirement already satisfied, skipping upgrade: setuptools in /opt/venv/lib/python3.6/site-packages (from protobuf>=3.6.0->tensorflow-serving-api==1.15) (41.4.0)\n",
      "Requirement already satisfied, skipping upgrade: h5py in /opt/venv/lib/python3.6/site-packages (from keras-applications>=1.0.8->tensorflow==1.15) (2.10.0)\n",
      "Requirement already satisfied, skipping upgrade: werkzeug>=0.11.15 in /opt/venv/lib/python3.6/site-packages (from tensorboard<1.16.0,>=1.15.0->tensorflow==1.15) (0.16.0)\n",
      "Requirement already satisfied, skipping upgrade: markdown>=2.6.8 in /opt/venv/lib/python3.6/site-packages (from tensorboard<1.16.0,>=1.15.0->tensorflow==1.15) (3.1.1)\n",
      "Installing collected packages: tensorflow-estimator, tensorboard, tensorflow, tensorflow-serving-api\n",
      "  Found existing installation: tensorflow-estimator 2.0.1\n",
      "    Uninstalling tensorflow-estimator-2.0.1:\n",
      "      Successfully uninstalled tensorflow-estimator-2.0.1\n",
      "  Found existing installation: tensorboard 2.0.1\n",
      "    Uninstalling tensorboard-2.0.1:\n",
      "      Successfully uninstalled tensorboard-2.0.1\n",
      "  Found existing installation: tensorflow 2.0.0\n",
      "    Uninstalling tensorflow-2.0.0:\n",
      "      Successfully uninstalled tensorflow-2.0.0\n",
      "  Found existing installation: tensorflow-serving-api 2.0.0\n",
      "    Uninstalling tensorflow-serving-api-2.0.0:\n",
      "      Successfully uninstalled tensorflow-serving-api-2.0.0\n",
      "Successfully installed tensorboard-1.15.0 tensorflow-1.15.0 tensorflow-estimator-1.15.1 tensorflow-serving-api-1.15.0\n",
      "Removing intermediate container b6ebb16e3d7a\n",
      " ---> 44d0a7abbdee\n",
      "Step 3/4 : RUN mkdir modules\n",
      " ---> Running in ff5fbea29549\n",
      "Removing intermediate container ff5fbea29549\n",
      " ---> b37fa14e4e38\n",
      "Step 4/4 : COPY  transform_train.py modules/\n",
      " ---> d849aeecb41c\n",
      "Successfully built d849aeecb41c\n",
      "Successfully tagged gcr.io/mlops-demo/popularity-predictor-trainer:latest\n",
      "PUSH\n",
      "Pushing gcr.io/mlops-demo/popularity-predictor-trainer:latest\n",
      "The push refers to repository [gcr.io/mlops-demo/popularity-predictor-trainer]\n",
      "397ba3dd9c3c: Preparing\n",
      "2d7ad0f5a827: Preparing\n",
      "ad3c483374a5: Preparing\n",
      "df096b7e2b93: Preparing\n",
      "f94b81f2de24: Preparing\n",
      "732c5d3d4213: Preparing\n",
      "28f330629c02: Preparing\n",
      "d346b6d4e428: Preparing\n",
      "65fcb5e8fca8: Preparing\n",
      "30b83e5d6fe0: Preparing\n",
      "bc72fb2e7b74: Preparing\n",
      "903669ee7207: Preparing\n",
      "a5a5f8c62487: Preparing\n",
      "788b17b748c2: Preparing\n",
      "732c5d3d4213: Waiting\n",
      "28f330629c02: Waiting\n",
      "d346b6d4e428: Waiting\n",
      "65fcb5e8fca8: Waiting\n",
      "30b83e5d6fe0: Waiting\n",
      "bc72fb2e7b74: Waiting\n",
      "903669ee7207: Waiting\n",
      "a5a5f8c62487: Waiting\n",
      "788b17b748c2: Waiting\n",
      "2d7ad0f5a827: Pushed\n",
      "397ba3dd9c3c: Pushed\n",
      "f94b81f2de24: Pushed\n",
      "df096b7e2b93: Pushed\n",
      "65fcb5e8fca8: Pushed\n",
      "28f330629c02: Pushed\n",
      "bc72fb2e7b74: Layer already exists\n",
      "903669ee7207: Layer already exists\n",
      "a5a5f8c62487: Layer already exists\n",
      "788b17b748c2: Layer already exists\n",
      "30b83e5d6fe0: Pushed\n",
      "d346b6d4e428: Pushed\n",
      "732c5d3d4213: Pushed\n",
      "ad3c483374a5: Pushed\n",
      "latest: digest: sha256:53a34f1d2cca0d4504f3df72f6ce8877674c2a8c5251208cee6456a9d89e5fd3 size: 3261\n",
      "DONE\n",
      "--------------------------------------------------------------------------------\n",
      "\n",
      "ID                                    CREATE_TIME                DURATION  SOURCE                                                                                IMAGES                                                    STATUS\n",
      "44d474cc-6302-45ea-9e80-8bbc05ca5201  2020-01-10T03:18:08+00:00  6M46S     gs://mlops-demo_cloudbuild/source/1578626288.07-7ba8c9cfb54d4130a987ab34e11623ab.tgz  gcr.io/mlops-demo/popularity-predictor-trainer (+1 more)  SUCCESS\n"
     ]
    }
   ],
   "source": [
    "PROJECT_ID='mlops-demo'\n",
    "IMAGE_NAME='popularity-predictor-trainer'\n",
    "TAG='latest'\n",
    "IMAGE_URI='gcr.io/{}/{}:{}'.format(PROJECT_ID, IMAGE_NAME, TAG)\n",
    "\n",
    "!gcloud builds submit --timeout 15m --tag $IMAGE_URI . "
   ]
  },
  {
   "cell_type": "markdown",
   "metadata": {},
   "source": [
    "### Compile the pipeline"
   ]
  },
  {
   "cell_type": "code",
   "execution_count": 8,
   "metadata": {},
   "outputs": [
    {
     "name": "stdout",
     "output_type": "stream",
     "text": [
      "CLI\n",
      "Compiling pipeline\n",
      "Detected Kubeflow.\n",
      "Use --engine flag if you intend to use a different orchestrator.\n",
      "Pipeline compiled successfully.\n",
      "Pipeline package path: /home/mlops-demo/tfx-pipeline/pipeline-dsl/popularity_predictor_training.tar.gz\n"
     ]
    }
   ],
   "source": [
    "%%sh\n",
    "\n",
    "export PROJECT_ID=mlops-demo\n",
    "export ARTIFACT_STORE_URI=gs://mlops-demo-artifact-store\n",
    "export DATA_ROOT_URI=gs://mlops-demo-artifact-store/lab-datasets/online_news\n",
    "export TFX_IMAGE=gcr.io/mlops-demo/popularity-predictor-trainer:latest\n",
    "export PIPELINE_NAME=popularity_predictor_training\n",
    "export GCP_REGION=us-central1\n",
    "export RUNTIME_VERSION=1.15\n",
    "export PYTHON_VERSION=3.7\n",
    "\n",
    "\n",
    "tfx pipeline compile --pipeline_path pipeline_dsl.py "
   ]
  },
  {
   "cell_type": "code",
   "execution_count": 19,
   "metadata": {},
   "outputs": [
    {
     "name": "stdout",
     "output_type": "stream",
     "text": [
      "env: PROJECT_ID=mlops-demo\n",
      "env: ARTIFACT_STORE_URI=gs://mlops-demo-artifact-store\n",
      "env: DATA_ROOT_URI=gs://mlops-demo-artifact-store/lab-datasets/online_news\n",
      "env: TFX_IMAGE=gcr.io/mlops-demo/popularity-predictor-trainer:latest\n",
      "env: PIPELINE_NAME=popularity_predictor_training\n",
      "env: PACKAGE_PATH=popularity_predictor_training.tar.gz\n",
      "env: GCP_REGION=us-central1\n",
      "env: RUNTIME_VERSION=1.15\n",
      "env: PYTHON_VERSION=3.7\n",
      "CLI\n",
      "Compiling pipeline\n",
      "Detected Kubeflow.\n",
      "Use --engine flag if you intend to use a different orchestrator.\n",
      "Pipeline compiled successfully.\n",
      "Pipeline package path: popularity_predictor_training.tar.gz\n"
     ]
    }
   ],
   "source": [
    "%env PROJECT_ID=mlops-demo\n",
    "%env ARTIFACT_STORE_URI=gs://mlops-demo-artifact-store\n",
    "%env DATA_ROOT_URI=gs://mlops-demo-artifact-store/lab-datasets/online_news\n",
    "%env TFX_IMAGE=gcr.io/mlops-demo/popularity-predictor-trainer:latest\n",
    "%env PIPELINE_NAME=popularity_predictor_training\n",
    "%env PACKAGE_PATH=popularity_predictor_training.tar.gz\n",
    "%env GCP_REGION=us-central1\n",
    "%env RUNTIME_VERSION=1.15\n",
    "%env PYTHON_VERSION=3.7\n",
    "\n",
    "!tfx pipeline compile --pipeline_path pipeline_dsl.py --package_path $PACKAGE_PATH"
   ]
  },
  {
   "cell_type": "code",
   "execution_count": 15,
   "metadata": {},
   "outputs": [
    {
     "data": {
      "text/plain": [
       "{'ARTIFACT_STORE_URI': 'gs://mlops-demo-artifact-store',\n",
       " 'CLICOLOR': '1',\n",
       " 'CONDA_DEFAULT_ENV': 'base',\n",
       " 'CONDA_EXE': '/root/miniconda3/bin/conda',\n",
       " 'CONDA_PREFIX': '/root/miniconda3',\n",
       " 'CONDA_PROMPT_MODIFIER': '(base) ',\n",
       " 'CONDA_PYTHON_EXE': '/root/miniconda3/bin/python',\n",
       " 'CONDA_ROOT': '/root/miniconda3',\n",
       " 'CONDA_SHLVL': '1',\n",
       " 'DATA_ROOT_URI': 'gs://mlops-demo-artifact-store/lab-datasets/online_news',\n",
       " 'GCE_METADATA_TIMEOUT': '3',\n",
       " 'GCP_REGION': 'us-central1',\n",
       " 'GIT_PAGER': 'cat',\n",
       " 'GIT_PYTHON_REFRESH': 'quiet',\n",
       " 'HOME': '/root',\n",
       " 'HOSTNAME': 'f0b0c4694a51',\n",
       " 'JPY_PARENT_PID': '7',\n",
       " 'LANG': 'C.UTF-8',\n",
       " 'LC_ALL': 'C.UTF-8',\n",
       " 'MPLBACKEND': 'module://ipykernel.pylab.backend_inline',\n",
       " 'NO_GCE_CHECK': 'False',\n",
       " 'PAGER': 'cat',\n",
       " 'PATH': '/root/miniconda3/bin:/root/miniconda3/bin:/usr/local/sbin:/usr/local/bin:/usr/sbin:/usr/bin:/sbin:/bin',\n",
       " 'PIPELINE_NAME': 'popularity_predictor_training',\n",
       " 'PROJECT_ID': 'mlops-demo',\n",
       " 'PWD': '/',\n",
       " 'PYTHON_VERSION': '3.7',\n",
       " 'RUNTIME_VERSION': '1.15',\n",
       " 'SHELL': '/bin/bash',\n",
       " 'SHLVL': '1',\n",
       " 'TERM': 'xterm-color',\n",
       " 'TFX_IMAGE': 'gcr.io/mlops-demo/popularity-predictor-trainer:latest',\n",
       " 'TF_DISABLE_MKL': '1',\n",
       " '_': '/root/miniconda3/bin/jupyter'}"
      ]
     },
     "execution_count": 15,
     "metadata": {},
     "output_type": "execute_result"
    }
   ],
   "source": [
    "%env"
   ]
  },
  {
   "cell_type": "markdown",
   "metadata": {},
   "source": [
    "### Upload the pipeline"
   ]
  },
  {
   "cell_type": "code",
   "execution_count": 21,
   "metadata": {},
   "outputs": [
    {
     "name": "stdout",
     "output_type": "stream",
     "text": [
      "env: INVERSE_PROXY_HOST=1ff32660e53f5d89-dot-us-central1.notebooks.googleusercontent.com\n",
      "Pipeline 19cfbd88-5239-4a8b-943e-ebad802a9a22 has been submitted\n",
      "\n",
      "Pipeline Details\n",
      "------------------\n",
      "ID           19cfbd88-5239-4a8b-943e-ebad802a9a22\n",
      "Name         popularity_predictor_training\n",
      "Description\n",
      "Uploaded at  2020-01-10T03:36:45+00:00\n",
      "+------------------+--------------------------------------------------------------+\n",
      "| Parameter Name   | Default Value                                                |\n",
      "+==================+==============================================================+\n",
      "| pipeline-root    | gs://mlops-demo-artifact-store/popularity_predictor_training |\n",
      "+------------------+--------------------------------------------------------------+\n"
     ]
    }
   ],
   "source": [
    "%env INVERSE_PROXY_HOST=1ff32660e53f5d89-dot-us-central1.notebooks.googleusercontent.com\n",
    "\n",
    "!kfp --endpoint $INVERSE_PROXY_HOST pipeline upload -p $PIPELINE_NAME $PACKAGE_PATH"
   ]
  },
  {
   "cell_type": "markdown",
   "metadata": {},
   "source": [
    "### List pipelines"
   ]
  },
  {
   "cell_type": "code",
   "execution_count": 22,
   "metadata": {},
   "outputs": [
    {
     "name": "stdout",
     "output_type": "stream",
     "text": [
      "+--------------------------------------+----------------------------------------------------------+---------------------------+\n",
      "| Pipeline ID                          | Name                                                     | Uploaded at               |\n",
      "+======================================+==========================================================+===========================+\n",
      "| 19cfbd88-5239-4a8b-943e-ebad802a9a22 | popularity_predictor_training                            | 2020-01-10T03:36:45+00:00 |\n",
      "+--------------------------------------+----------------------------------------------------------+---------------------------+\n",
      "| 7a589200-0397-4e72-815f-66c3fc78b08e | covertype_classifier_training_R.0.1                      | 2020-01-10T03:05:20+00:00 |\n",
      "+--------------------------------------+----------------------------------------------------------+---------------------------+\n",
      "| f1246bd6-cef1-4476-b8a1-74e0457b63f2 | covertype_classifier_training_test                       | 2020-01-10T02:41:07+00:00 |\n",
      "+--------------------------------------+----------------------------------------------------------+---------------------------+\n",
      "| da8c13ef-3834-4bc6-a0b0-74086c6ac5d8 | covertype_classifier_training                            | 2020-01-09T22:52:26+00:00 |\n",
      "+--------------------------------------+----------------------------------------------------------+---------------------------+\n",
      "| be12500c-2f01-4efe-bf2d-0f24479f217c | [Sample] Basic - Exit Handler                            | 2020-01-09T18:56:04+00:00 |\n",
      "+--------------------------------------+----------------------------------------------------------+---------------------------+\n",
      "| 2e130201-0fdf-42d9-8898-22e8b2cf3416 | [Sample] Basic - Conditional execution                   | 2020-01-09T18:56:03+00:00 |\n",
      "+--------------------------------------+----------------------------------------------------------+---------------------------+\n",
      "| 68c4181d-91da-4e3d-8fe4-e9e6d97a750d | [Sample] Basic - Parallel execution                      | 2020-01-09T18:56:01+00:00 |\n",
      "+--------------------------------------+----------------------------------------------------------+---------------------------+\n",
      "| 534fa461-7495-4659-af51-6a825c033342 | [Sample] Basic - Sequential execution                    | 2020-01-09T18:56:00+00:00 |\n",
      "+--------------------------------------+----------------------------------------------------------+---------------------------+\n",
      "| 0396da79-bf48-453e-b84e-5c8ef79f2f6f | [Sample] Unified DSL - Taxi Tip Prediction Model Trainer | 2020-01-09T18:55:59+00:00 |\n",
      "+--------------------------------------+----------------------------------------------------------+---------------------------+\n",
      "| a4b77c27-89ce-4c72-8428-98ce267770ef | [Sample] ML - XGBoost - Training with Confusion Matrix   | 2020-01-09T18:55:58+00:00 |\n",
      "+--------------------------------------+----------------------------------------------------------+---------------------------+\n"
     ]
    }
   ],
   "source": [
    "!kfp --endpoint $INVERSE_PROXY_HOST pipeline list"
   ]
  },
  {
   "cell_type": "markdown",
   "metadata": {},
   "source": [
    "### Submit the run"
   ]
  },
  {
   "cell_type": "code",
   "execution_count": 23,
   "metadata": {},
   "outputs": [
    {
     "name": "stdout",
     "output_type": "stream",
     "text": [
      "env: EXPERIMENT_NAME=Popularity_Predictor_Training\n",
      "env: RUN_NAME=Training_Run_1\n",
      "env: PIPELINE_ID=19cfbd88-5239-4a8b-943e-ebad802a9a22\n",
      "Creating experiment Popularity_Predictor_Training.\n",
      "Run 5ef3884a-3492-47c2-aaa3-919dd13aa560 is submitted\n",
      "+--------------------------------------+----------+----------+---------------------------+\n",
      "| run id                               | name     | status   | created at                |\n",
      "+======================================+==========+==========+===========================+\n",
      "| 5ef3884a-3492-47c2-aaa3-919dd13aa560 | RUN_NAME |          | 2020-01-10T03:40:57+00:00 |\n",
      "+--------------------------------------+----------+----------+---------------------------+\n"
     ]
    }
   ],
   "source": [
    "%env EXPERIMENT_NAME=Popularity_Predictor_Training\n",
    "%env RUN_NAME=Training_Run_1\n",
    "%env PIPELINE_ID 19cfbd88-5239-4a8b-943e-ebad802a9a22\n",
    "\n",
    "!kfp --endpoint $INVERSE_PROXY_HOST run submit \\\n",
    "-e $EXPERIMENT_NAME \\\n",
    "-r RUN_NAME \\\n",
    "-p $PIPELINE_ID\n"
   ]
  },
  {
   "cell_type": "code",
   "execution_count": null,
   "metadata": {},
   "outputs": [],
   "source": []
  }
 ],
 "metadata": {
  "kernelspec": {
   "display_name": "Python 3",
   "language": "python",
   "name": "python3"
  },
  "language_info": {
   "codemirror_mode": {
    "name": "ipython",
    "version": 3
   },
   "file_extension": ".py",
   "mimetype": "text/x-python",
   "name": "python",
   "nbconvert_exporter": "python",
   "pygments_lexer": "ipython3",
   "version": "3.5.6"
  }
 },
 "nbformat": 4,
 "nbformat_minor": 4
}
