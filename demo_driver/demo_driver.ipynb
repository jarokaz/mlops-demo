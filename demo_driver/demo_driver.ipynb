{
 "cells": [
  {
   "cell_type": "markdown",
   "metadata": {},
   "source": [
    "# MLOps on GCP Demo"
   ]
  },
  {
   "cell_type": "markdown",
   "metadata": {},
   "source": [
    "### List pipelines"
   ]
  },
  {
   "cell_type": "code",
   "execution_count": 2,
   "metadata": {},
   "outputs": [
    {
     "name": "stdout",
     "output_type": "stream",
     "text": [
      "+--------------------------------------+----------------------------------------------------------+---------------------------+\n",
      "| Pipeline ID                          | Name                                                     | Uploaded at               |\n",
      "+======================================+==========================================================+===========================+\n",
      "| 197523e7-9e4a-491c-87f1-603f29f2e0a2 | covertype_classifier_training_1                          | 2020-01-10T16:18:54+00:00 |\n",
      "+--------------------------------------+----------------------------------------------------------+---------------------------+\n",
      "| 48b0c023-b881-4ee1-9119-4b479998f142 | popularity_predictor_training                            | 2020-01-10T03:44:39+00:00 |\n",
      "+--------------------------------------+----------------------------------------------------------+---------------------------+\n",
      "| 7a589200-0397-4e72-815f-66c3fc78b08e | covertype_classifier_training_R.0.1                      | 2020-01-10T03:05:20+00:00 |\n",
      "+--------------------------------------+----------------------------------------------------------+---------------------------+\n",
      "| f1246bd6-cef1-4476-b8a1-74e0457b63f2 | covertype_classifier_training_test                       | 2020-01-10T02:41:07+00:00 |\n",
      "+--------------------------------------+----------------------------------------------------------+---------------------------+\n",
      "| da8c13ef-3834-4bc6-a0b0-74086c6ac5d8 | covertype_classifier_training                            | 2020-01-09T22:52:26+00:00 |\n",
      "+--------------------------------------+----------------------------------------------------------+---------------------------+\n",
      "| be12500c-2f01-4efe-bf2d-0f24479f217c | [Sample] Basic - Exit Handler                            | 2020-01-09T18:56:04+00:00 |\n",
      "+--------------------------------------+----------------------------------------------------------+---------------------------+\n",
      "| 2e130201-0fdf-42d9-8898-22e8b2cf3416 | [Sample] Basic - Conditional execution                   | 2020-01-09T18:56:03+00:00 |\n",
      "+--------------------------------------+----------------------------------------------------------+---------------------------+\n",
      "| 68c4181d-91da-4e3d-8fe4-e9e6d97a750d | [Sample] Basic - Parallel execution                      | 2020-01-09T18:56:01+00:00 |\n",
      "+--------------------------------------+----------------------------------------------------------+---------------------------+\n",
      "| 534fa461-7495-4659-af51-6a825c033342 | [Sample] Basic - Sequential execution                    | 2020-01-09T18:56:00+00:00 |\n",
      "+--------------------------------------+----------------------------------------------------------+---------------------------+\n",
      "| 0396da79-bf48-453e-b84e-5c8ef79f2f6f | [Sample] Unified DSL - Taxi Tip Prediction Model Trainer | 2020-01-09T18:55:59+00:00 |\n",
      "+--------------------------------------+----------------------------------------------------------+---------------------------+\n",
      "| a4b77c27-89ce-4c72-8428-98ce267770ef | [Sample] ML - XGBoost - Training with Confusion Matrix   | 2020-01-09T18:55:58+00:00 |\n",
      "+--------------------------------------+----------------------------------------------------------+---------------------------+\n"
     ]
    }
   ],
   "source": [
    "INVERSE_PROXY_HOST='1ff32660e53f5d89-dot-us-central1.notebooks.googleusercontent.com'\n",
    "\n",
    "!kfp --endpoint $INVERSE_PROXY_HOST pipeline list"
   ]
  },
  {
   "cell_type": "markdown",
   "metadata": {},
   "source": [
    "### Submit KFP pipeline run"
   ]
  },
  {
   "cell_type": "code",
   "execution_count": null,
   "metadata": {},
   "outputs": [],
   "source": [
    "PROJECT_ID='mlops-demo'\n",
    "STAGING_GCS_BUCKET='gs://mlops-demo-lab-11'\n",
    "RUN_NAME=\"Training_Run_001\"\n",
    "EXPERIMENT_NAME='Covertype_Classifier_Training'\n",
    "PIPELINE_ID='197523e7-9e4a-491c-87f1-603f29f2e0a2'\n",
    "\n",
    "!kfp --endpoint $INVERSE_PROXY_HOST run submit \\\n",
    "-e $EXPERIMENT_NAME \\\n",
    "-r $RUN_NAME \\\n",
    "-p $PIPELINE_ID \\\n",
    "project_id=$PROJECT_ID \\\n",
    "gcs_root=$STAGING_GCS_BUCKET \\\n",
    "region=us-central1 \\\n",
    "source_table_name=lab_11.covertype \\\n",
    "dataset_id=splits \\\n",
    "evaluation_metric_name=accuracy \\\n",
    "evaluation_metric_threshold=0.69 \\\n",
    "model_id=covertype_classifier \\\n",
    "version_id=v0.1 \\\n",
    "replace_existing_version=True"
   ]
  },
  {
   "cell_type": "markdown",
   "metadata": {},
   "source": [
    "### Submit TFX pipeline run"
   ]
  },
  {
   "cell_type": "code",
   "execution_count": 3,
   "metadata": {},
   "outputs": [
    {
     "name": "stdout",
     "output_type": "stream",
     "text": [
      "Run 7f09e5ca-0c71-481e-a122-16e84bc0470d is submitted\n",
      "+--------------------------------------+----------------+----------+---------------------------+\n",
      "| run id                               | name           | status   | created at                |\n",
      "+======================================+================+==========+===========================+\n",
      "| 7f09e5ca-0c71-481e-a122-16e84bc0470d | Training_Run_1 |          | 2020-01-10T16:31:18+00:00 |\n",
      "+--------------------------------------+----------------+----------+---------------------------+\n"
     ]
    }
   ],
   "source": [
    "EXPERIMENT_NAME='Popularity_Predictor_Training'\n",
    "RUN_NAME='Training_Run_1'\n",
    "PIPELINE_ID='48b0c023-b881-4ee1-9119-4b479998f142'\n",
    "\n",
    "!kfp --endpoint $INVERSE_PROXY_HOST run submit \\\n",
    "-e $EXPERIMENT_NAME \\\n",
    "-r $RUN_NAME \\\n",
    "-p $PIPELINE_ID"
   ]
  },
  {
   "cell_type": "code",
   "execution_count": null,
   "metadata": {},
   "outputs": [],
   "source": []
  }
 ],
 "metadata": {
  "kernelspec": {
   "display_name": "Python 3",
   "language": "python",
   "name": "python3"
  },
  "language_info": {
   "codemirror_mode": {
    "name": "ipython",
    "version": 3
   },
   "file_extension": ".py",
   "mimetype": "text/x-python",
   "name": "python",
   "nbconvert_exporter": "python",
   "pygments_lexer": "ipython3",
   "version": "3.5.6"
  }
 },
 "nbformat": 4,
 "nbformat_minor": 4
}
